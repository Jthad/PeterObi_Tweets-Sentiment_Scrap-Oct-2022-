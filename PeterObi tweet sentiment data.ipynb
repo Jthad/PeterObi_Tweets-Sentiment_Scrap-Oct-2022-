{
 "cells": [
  {
   "cell_type": "code",
   "execution_count": null,
   "id": "549b9c1f",
   "metadata": {},
   "outputs": [],
   "source": [
    "#conda install pip"
   ]
  },
  {
   "cell_type": "code",
   "execution_count": 4,
   "id": "ac76ba27",
   "metadata": {},
   "outputs": [
    {
     "name": "stdout",
     "output_type": "stream",
     "text": [
      "Collecting textblob\n",
      "  Downloading textblob-0.17.1-py2.py3-none-any.whl (636 kB)\n",
      "     ------------------------------------ 636.8/636.8 kB 657.4 kB/s eta 0:00:00\n",
      "Requirement already satisfied: nltk>=3.1 in c:\\users\\samsung\\anaconda3\\lib\\site-packages (from textblob) (3.7)\n",
      "Requirement already satisfied: tqdm in c:\\users\\samsung\\anaconda3\\lib\\site-packages (from nltk>=3.1->textblob) (4.64.0)\n",
      "Requirement already satisfied: regex>=2021.8.3 in c:\\users\\samsung\\anaconda3\\lib\\site-packages (from nltk>=3.1->textblob) (2022.3.15)\n",
      "Requirement already satisfied: joblib in c:\\users\\samsung\\anaconda3\\lib\\site-packages (from nltk>=3.1->textblob) (1.1.0)\n",
      "Requirement already satisfied: click in c:\\users\\samsung\\anaconda3\\lib\\site-packages (from nltk>=3.1->textblob) (8.0.4)\n",
      "Requirement already satisfied: colorama in c:\\users\\samsung\\anaconda3\\lib\\site-packages (from click->nltk>=3.1->textblob) (0.4.4)\n",
      "Installing collected packages: textblob\n",
      "Successfully installed textblob-0.17.1\n",
      "Note: you may need to restart the kernel to use updated packages.\n"
     ]
    }
   ],
   "source": [
    "pip install textblob"
   ]
  },
  {
   "cell_type": "code",
   "execution_count": 13,
   "id": "2fb49740",
   "metadata": {},
   "outputs": [
    {
     "name": "stdout",
     "output_type": "stream",
     "text": [
      "Requirement already satisfied: nltk in c:\\users\\samsung\\anaconda3\\lib\\site-packages (3.7)\n",
      "Requirement already satisfied: click in c:\\users\\samsung\\anaconda3\\lib\\site-packages (from nltk) (8.0.4)\n",
      "Requirement already satisfied: regex>=2021.8.3 in c:\\users\\samsung\\anaconda3\\lib\\site-packages (from nltk) (2022.3.15)\n",
      "Requirement already satisfied: joblib in c:\\users\\samsung\\anaconda3\\lib\\site-packages (from nltk) (1.1.0)\n",
      "Requirement already satisfied: tqdm in c:\\users\\samsung\\anaconda3\\lib\\site-packages (from nltk) (4.64.0)\n",
      "Requirement already satisfied: colorama in c:\\users\\samsung\\anaconda3\\lib\\site-packages (from click->nltk) (0.4.4)\n",
      "Note: you may need to restart the kernel to use updated packages.\n"
     ]
    }
   ],
   "source": [
    "pip install nltk"
   ]
  },
  {
   "cell_type": "code",
   "execution_count": 1,
   "id": "f364fa37",
   "metadata": {},
   "outputs": [
    {
     "name": "stdout",
     "output_type": "stream",
     "text": [
      "showing info https://raw.githubusercontent.com/nltk/nltk_data/gh-pages/index.xml\n"
     ]
    },
    {
     "data": {
      "text/plain": [
       "True"
      ]
     },
     "execution_count": 1,
     "metadata": {},
     "output_type": "execute_result"
    }
   ],
   "source": [
    "import nltk\n",
    "nltk.download()"
   ]
  },
  {
   "cell_type": "code",
   "execution_count": 2,
   "id": "e83ab6be",
   "metadata": {},
   "outputs": [],
   "source": [
    "import pandas as pd\n",
    "import numpy as np\n",
    "from textblob import TextBlob"
   ]
  },
  {
   "cell_type": "code",
   "execution_count": 3,
   "id": "75ee2669",
   "metadata": {},
   "outputs": [
    {
     "data": {
      "text/html": [
       "<div>\n",
       "<style scoped>\n",
       "    .dataframe tbody tr th:only-of-type {\n",
       "        vertical-align: middle;\n",
       "    }\n",
       "\n",
       "    .dataframe tbody tr th {\n",
       "        vertical-align: top;\n",
       "    }\n",
       "\n",
       "    .dataframe thead th {\n",
       "        text-align: right;\n",
       "    }\n",
       "</style>\n",
       "<table border=\"1\" class=\"dataframe\">\n",
       "  <thead>\n",
       "    <tr style=\"text-align: right;\">\n",
       "      <th></th>\n",
       "      <th>Unnamed: 0</th>\n",
       "      <th>Date</th>\n",
       "      <th>TweetURL</th>\n",
       "      <th>User</th>\n",
       "      <th>Source</th>\n",
       "      <th>Location</th>\n",
       "      <th>Tweet</th>\n",
       "      <th>Likes_Count</th>\n",
       "      <th>Retweet_Count</th>\n",
       "      <th>Quote_Count</th>\n",
       "      <th>Reply_Count</th>\n",
       "    </tr>\n",
       "  </thead>\n",
       "  <tbody>\n",
       "    <tr>\n",
       "      <th>0</th>\n",
       "      <td>0</td>\n",
       "      <td>2022-10-31 09:11:06+00:00</td>\n",
       "      <td>https://twitter.com/PeterObi/status/1587009257...</td>\n",
       "      <td>PeterObi</td>\n",
       "      <td>Twitter for Android</td>\n",
       "      <td>Nigeria</td>\n",
       "      <td>We have not formally released our Manifesto. I...</td>\n",
       "      <td>37485</td>\n",
       "      <td>11292</td>\n",
       "      <td>985</td>\n",
       "      <td>2227</td>\n",
       "    </tr>\n",
       "    <tr>\n",
       "      <th>1</th>\n",
       "      <td>1</td>\n",
       "      <td>2022-10-31 08:30:43+00:00</td>\n",
       "      <td>https://twitter.com/PeterObi/status/1586999091...</td>\n",
       "      <td>PeterObi</td>\n",
       "      <td>Twitter for Android</td>\n",
       "      <td>Nigeria</td>\n",
       "      <td>I extend my warmest congratulations to the Fla...</td>\n",
       "      <td>17128</td>\n",
       "      <td>3928</td>\n",
       "      <td>29</td>\n",
       "      <td>348</td>\n",
       "    </tr>\n",
       "    <tr>\n",
       "      <th>2</th>\n",
       "      <td>2</td>\n",
       "      <td>2022-10-31 05:51:21+00:00</td>\n",
       "      <td>https://twitter.com/PeterObi/status/1586958988...</td>\n",
       "      <td>PeterObi</td>\n",
       "      <td>Twitter for Android</td>\n",
       "      <td>Nigeria</td>\n",
       "      <td>and its personnel will enjoy the high moral su...</td>\n",
       "      <td>3889</td>\n",
       "      <td>864</td>\n",
       "      <td>2</td>\n",
       "      <td>29</td>\n",
       "    </tr>\n",
       "    <tr>\n",
       "      <th>3</th>\n",
       "      <td>3</td>\n",
       "      <td>2022-10-31 05:51:20+00:00</td>\n",
       "      <td>https://twitter.com/PeterObi/status/1586958984...</td>\n",
       "      <td>PeterObi</td>\n",
       "      <td>Twitter for Android</td>\n",
       "      <td>Nigeria</td>\n",
       "      <td>Nigerians look forward to the day when the NPF...</td>\n",
       "      <td>4053</td>\n",
       "      <td>929</td>\n",
       "      <td>4</td>\n",
       "      <td>32</td>\n",
       "    </tr>\n",
       "    <tr>\n",
       "      <th>4</th>\n",
       "      <td>4</td>\n",
       "      <td>2022-10-31 05:51:19+00:00</td>\n",
       "      <td>https://twitter.com/PeterObi/status/1586958980...</td>\n",
       "      <td>PeterObi</td>\n",
       "      <td>Twitter for Android</td>\n",
       "      <td>Nigeria</td>\n",
       "      <td>The NPF remains a formidable and an indispensa...</td>\n",
       "      <td>2591</td>\n",
       "      <td>621</td>\n",
       "      <td>1</td>\n",
       "      <td>25</td>\n",
       "    </tr>\n",
       "  </tbody>\n",
       "</table>\n",
       "</div>"
      ],
      "text/plain": [
       "   Unnamed: 0                       Date  \\\n",
       "0           0  2022-10-31 09:11:06+00:00   \n",
       "1           1  2022-10-31 08:30:43+00:00   \n",
       "2           2  2022-10-31 05:51:21+00:00   \n",
       "3           3  2022-10-31 05:51:20+00:00   \n",
       "4           4  2022-10-31 05:51:19+00:00   \n",
       "\n",
       "                                            TweetURL      User  \\\n",
       "0  https://twitter.com/PeterObi/status/1587009257...  PeterObi   \n",
       "1  https://twitter.com/PeterObi/status/1586999091...  PeterObi   \n",
       "2  https://twitter.com/PeterObi/status/1586958988...  PeterObi   \n",
       "3  https://twitter.com/PeterObi/status/1586958984...  PeterObi   \n",
       "4  https://twitter.com/PeterObi/status/1586958980...  PeterObi   \n",
       "\n",
       "                Source Location  \\\n",
       "0  Twitter for Android  Nigeria   \n",
       "1  Twitter for Android  Nigeria   \n",
       "2  Twitter for Android  Nigeria   \n",
       "3  Twitter for Android  Nigeria   \n",
       "4  Twitter for Android  Nigeria   \n",
       "\n",
       "                                               Tweet  Likes_Count  \\\n",
       "0  We have not formally released our Manifesto. I...        37485   \n",
       "1  I extend my warmest congratulations to the Fla...        17128   \n",
       "2  and its personnel will enjoy the high moral su...         3889   \n",
       "3  Nigerians look forward to the day when the NPF...         4053   \n",
       "4  The NPF remains a formidable and an indispensa...         2591   \n",
       "\n",
       "   Retweet_Count  Quote_Count  Reply_Count  \n",
       "0          11292          985         2227  \n",
       "1           3928           29          348  \n",
       "2            864            2           29  \n",
       "3            929            4           32  \n",
       "4            621            1           25  "
      ]
     },
     "execution_count": 3,
     "metadata": {},
     "output_type": "execute_result"
    }
   ],
   "source": [
    "data = pd.read_csv(r'C:\\Users\\samsung\\peterobi_tweets.csv')\n",
    "data = data.head()\n",
    "data.dropna()"
   ]
  },
  {
   "cell_type": "code",
   "execution_count": 9,
   "id": "05c30c4d",
   "metadata": {},
   "outputs": [
    {
     "data": {
      "text/plain": [
       "\"I extend my warmest congratulations to the Flamingos on winning the bronze medal at the under 17 women's world cup. Salute to our talented youths who continue to make Nigeria proud.-PO\""
      ]
     },
     "execution_count": 9,
     "metadata": {},
     "output_type": "execute_result"
    }
   ],
   "source": [
    "data['Tweet'][1]"
   ]
  },
  {
   "cell_type": "code",
   "execution_count": 11,
   "id": "bdbe5610",
   "metadata": {},
   "outputs": [
    {
     "name": "stdout",
     "output_type": "stream",
     "text": [
      "Sentiment(polarity=0.6, subjectivity=0.825)\n"
     ]
    }
   ],
   "source": [
    "text_blob_object = TextBlob(data['Tweet'][1])\n",
    "print(text_blob_object.sentiment)"
   ]
  },
  {
   "cell_type": "code",
   "execution_count": 12,
   "id": "50526f1f",
   "metadata": {},
   "outputs": [
    {
     "data": {
      "text/html": [
       "<div>\n",
       "<style scoped>\n",
       "    .dataframe tbody tr th:only-of-type {\n",
       "        vertical-align: middle;\n",
       "    }\n",
       "\n",
       "    .dataframe tbody tr th {\n",
       "        vertical-align: top;\n",
       "    }\n",
       "\n",
       "    .dataframe thead th {\n",
       "        text-align: right;\n",
       "    }\n",
       "</style>\n",
       "<table border=\"1\" class=\"dataframe\">\n",
       "  <thead>\n",
       "    <tr style=\"text-align: right;\">\n",
       "      <th></th>\n",
       "      <th>Unnamed: 0</th>\n",
       "      <th>Date</th>\n",
       "      <th>TweetURL</th>\n",
       "      <th>User</th>\n",
       "      <th>Source</th>\n",
       "      <th>Location</th>\n",
       "      <th>Tweet</th>\n",
       "      <th>Likes_Count</th>\n",
       "      <th>Retweet_Count</th>\n",
       "      <th>Quote_Count</th>\n",
       "      <th>Reply_Count</th>\n",
       "      <th>Sentiment_Polarity</th>\n",
       "    </tr>\n",
       "  </thead>\n",
       "  <tbody>\n",
       "    <tr>\n",
       "      <th>0</th>\n",
       "      <td>0</td>\n",
       "      <td>2022-10-31 09:11:06+00:00</td>\n",
       "      <td>https://twitter.com/PeterObi/status/1587009257...</td>\n",
       "      <td>PeterObi</td>\n",
       "      <td>Twitter for Android</td>\n",
       "      <td>Nigeria</td>\n",
       "      <td>We have not formally released our Manifesto. I...</td>\n",
       "      <td>37485</td>\n",
       "      <td>11292</td>\n",
       "      <td>985</td>\n",
       "      <td>2227</td>\n",
       "      <td>0.000000</td>\n",
       "    </tr>\n",
       "    <tr>\n",
       "      <th>1</th>\n",
       "      <td>1</td>\n",
       "      <td>2022-10-31 08:30:43+00:00</td>\n",
       "      <td>https://twitter.com/PeterObi/status/1586999091...</td>\n",
       "      <td>PeterObi</td>\n",
       "      <td>Twitter for Android</td>\n",
       "      <td>Nigeria</td>\n",
       "      <td>I extend my warmest congratulations to the Fla...</td>\n",
       "      <td>17128</td>\n",
       "      <td>3928</td>\n",
       "      <td>29</td>\n",
       "      <td>348</td>\n",
       "      <td>0.600000</td>\n",
       "    </tr>\n",
       "    <tr>\n",
       "      <th>2</th>\n",
       "      <td>2</td>\n",
       "      <td>2022-10-31 05:51:21+00:00</td>\n",
       "      <td>https://twitter.com/PeterObi/status/1586958988...</td>\n",
       "      <td>PeterObi</td>\n",
       "      <td>Twitter for Android</td>\n",
       "      <td>Nigeria</td>\n",
       "      <td>and its personnel will enjoy the high moral su...</td>\n",
       "      <td>3889</td>\n",
       "      <td>864</td>\n",
       "      <td>2</td>\n",
       "      <td>29</td>\n",
       "      <td>0.186667</td>\n",
       "    </tr>\n",
       "    <tr>\n",
       "      <th>3</th>\n",
       "      <td>3</td>\n",
       "      <td>2022-10-31 05:51:20+00:00</td>\n",
       "      <td>https://twitter.com/PeterObi/status/1586958984...</td>\n",
       "      <td>PeterObi</td>\n",
       "      <td>Twitter for Android</td>\n",
       "      <td>Nigeria</td>\n",
       "      <td>Nigerians look forward to the day when the NPF...</td>\n",
       "      <td>4053</td>\n",
       "      <td>929</td>\n",
       "      <td>4</td>\n",
       "      <td>32</td>\n",
       "      <td>0.400000</td>\n",
       "    </tr>\n",
       "    <tr>\n",
       "      <th>4</th>\n",
       "      <td>4</td>\n",
       "      <td>2022-10-31 05:51:19+00:00</td>\n",
       "      <td>https://twitter.com/PeterObi/status/1586958980...</td>\n",
       "      <td>PeterObi</td>\n",
       "      <td>Twitter for Android</td>\n",
       "      <td>Nigeria</td>\n",
       "      <td>The NPF remains a formidable and an indispensa...</td>\n",
       "      <td>2591</td>\n",
       "      <td>621</td>\n",
       "      <td>1</td>\n",
       "      <td>25</td>\n",
       "      <td>0.100000</td>\n",
       "    </tr>\n",
       "  </tbody>\n",
       "</table>\n",
       "</div>"
      ],
      "text/plain": [
       "   Unnamed: 0                       Date  \\\n",
       "0           0  2022-10-31 09:11:06+00:00   \n",
       "1           1  2022-10-31 08:30:43+00:00   \n",
       "2           2  2022-10-31 05:51:21+00:00   \n",
       "3           3  2022-10-31 05:51:20+00:00   \n",
       "4           4  2022-10-31 05:51:19+00:00   \n",
       "\n",
       "                                            TweetURL      User  \\\n",
       "0  https://twitter.com/PeterObi/status/1587009257...  PeterObi   \n",
       "1  https://twitter.com/PeterObi/status/1586999091...  PeterObi   \n",
       "2  https://twitter.com/PeterObi/status/1586958988...  PeterObi   \n",
       "3  https://twitter.com/PeterObi/status/1586958984...  PeterObi   \n",
       "4  https://twitter.com/PeterObi/status/1586958980...  PeterObi   \n",
       "\n",
       "                Source Location  \\\n",
       "0  Twitter for Android  Nigeria   \n",
       "1  Twitter for Android  Nigeria   \n",
       "2  Twitter for Android  Nigeria   \n",
       "3  Twitter for Android  Nigeria   \n",
       "4  Twitter for Android  Nigeria   \n",
       "\n",
       "                                               Tweet  Likes_Count  \\\n",
       "0  We have not formally released our Manifesto. I...        37485   \n",
       "1  I extend my warmest congratulations to the Fla...        17128   \n",
       "2  and its personnel will enjoy the high moral su...         3889   \n",
       "3  Nigerians look forward to the day when the NPF...         4053   \n",
       "4  The NPF remains a formidable and an indispensa...         2591   \n",
       "\n",
       "   Retweet_Count  Quote_Count  Reply_Count  Sentiment_Polarity  \n",
       "0          11292          985         2227            0.000000  \n",
       "1           3928           29          348            0.600000  \n",
       "2            864            2           29            0.186667  \n",
       "3            929            4           32            0.400000  \n",
       "4            621            1           25            0.100000  "
      ]
     },
     "execution_count": 12,
     "metadata": {},
     "output_type": "execute_result"
    }
   ],
   "source": [
    "def find_pol(review):\n",
    "    return TextBlob(review).sentiment.polarity\n",
    "\n",
    "data['Sentiment_Polarity'] = data['Tweet'].apply(find_pol)\n",
    "data.head()"
   ]
  },
  {
   "cell_type": "code",
   "execution_count": 15,
   "id": "92fded8f",
   "metadata": {},
   "outputs": [],
   "source": [
    "data.to_csv('peterobi_tweets&sentiments.csv', index=False)"
   ]
  }
 ],
 "metadata": {
  "kernelspec": {
   "display_name": "Python 3 (ipykernel)",
   "language": "python",
   "name": "python3"
  },
  "language_info": {
   "codemirror_mode": {
    "name": "ipython",
    "version": 3
   },
   "file_extension": ".py",
   "mimetype": "text/x-python",
   "name": "python",
   "nbconvert_exporter": "python",
   "pygments_lexer": "ipython3",
   "version": "3.9.12"
  }
 },
 "nbformat": 4,
 "nbformat_minor": 5
}
